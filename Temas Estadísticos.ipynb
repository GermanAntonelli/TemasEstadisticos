{
 "cells": [
  {
   "cell_type": "markdown",
   "metadata": {},
   "source": [
    "# Temas Estadísticos"
   ]
  },
  {
   "cell_type": "markdown",
   "metadata": {},
   "source": [
    "## Medidas de Centralización"
   ]
  },
  {
   "cell_type": "markdown",
   "metadata": {},
   "source": [
    "### Media Aritmetica\n",
    "\n"
   ]
  },
  {
   "cell_type": "markdown",
   "metadata": {},
   "source": [
    "Que es? La media aritmética es el valor obtenido al sumar todos los datos y dividir el resultado entre el número total de datos. x es el símbolo de la media aritmética.\n",
    "\n",
    "Ejemplo:\n",
    "Los pesos de seis amigos son: 84, 91, 72, 68, 87 y 78 kg.\n",
    "\n",
    "Hallar el peso medio.\n",
    "\n",
    "ejemplo de media aritmetica\n",
    "  \n",
    "     84 + 91 + 72 + 68 + 87 + 78\n",
    "x = ---------------------------- = 80 kg\n",
    "                 6\n",
    "                 \n",
    "                 \n",
    "Se denota por X \n",
    "Se divide la suma de los datos por el número total de ellos. \n",
    "O si los datos vienen en una tabla con sus frecuencias absolutas (fi ( tantos con este valor, otros tantos con otro valor...), se multiplica cada dato   xi  por su frecuencia fi \n",
    "  \n",
    " x =  ( x1.f1 + x2.f2 + ....+ xn.fn) / N  = ∑(xi.fi)/N"
   ]
  },
  {
   "cell_type": "code",
   "execution_count": 1,
   "metadata": {},
   "outputs": [
    {
     "data": {
      "text/plain": [
       "80.0"
      ]
     },
     "execution_count": 1,
     "metadata": {},
     "output_type": "execute_result"
    }
   ],
   "source": [
    "def Media_Aritmetica(numero_lista):\n",
    "    return sum(numero_lista)/len(numero_lista)\n",
    "\n",
    "numero_lista=[84,91,72,68,87,78]\n",
    "\n",
    "Media_Aritmetica(numero_lista)"
   ]
  },
  {
   "cell_type": "markdown",
   "metadata": {},
   "source": [
    "### Mediana "
   ]
  },
  {
   "cell_type": "markdown",
   "metadata": {},
   "source": [
    "\n",
    "Partiendo del latín encontramos la forma más directa de definir este concepto matemático que proviene de medianus, significando del medio. A pesar de que es una palabra ampliamente utilizada en el lenguaje, adquiere un significado matemático cuando nos referimos a la variable que se encuentra en la posición central.\n",
    "\n",
    "Todos estos son puntos de vista o formas de observar los datos obtenidos a través de un estudio estadístico, pueden medirse y por esta razón son indispensables en cualquier estudio o proyecto.\n",
    "\n",
    "*Se representa por Me \n",
    "*Es el valor central de un conjunto de datos \n",
    "*Se ordenan los valores en orden creciente y se toma el que ocupa el lugar central (si el número de valores es impar o la media de los dos centrales si es par). \n",
    "*Si se trata de la mediana de valores agrupados"
   ]
  },
  {
   "cell_type": "code",
   "execution_count": 6,
   "metadata": {},
   "outputs": [
    {
     "data": {
      "text/plain": [
       "5"
      ]
     },
     "execution_count": 6,
     "metadata": {},
     "output_type": "execute_result"
    }
   ],
   "source": [
    "# Forma para sacar la mediana\n",
    "from statistics import median\n",
    "median([5, 2, 7])"
   ]
  },
  {
   "cell_type": "markdown",
   "metadata": {},
   "source": [
    "### Moda"
   ]
  },
  {
   "cell_type": "markdown",
   "metadata": {},
   "source": [
    "En estadística, la moda es el valor con mayor frecuencia en una de las distribuciones de datos. Esto va en forma de una columna cuando encontremos dos modas, es decir, dos datos que tengan la misma frecuencia absoluta máxima. Una distribución trimodal de los datos es en la que encontramos tres modas. En el caso de la distribución uniforme discreta, cuando todos los datos tienen la misma frecuencia, se puede definir las modas como indicado, pero estos valores no tienen utilidad. Por eso algunos matemáticos califican esta distribución como «sin moda».\n",
    "\n",
    "*Se representa por Mo \n",
    "*Es el valor que más se repite. \n",
    "*Si se repiten la serie es bimodal (2) o multimodal.\n",
    "\n",
    "importante\n",
    "* si se encuentran multiples modas con la misma frecuencia se retorna la primera que se encuentre en los datos "
   ]
  },
  {
   "cell_type": "code",
   "execution_count": 9,
   "metadata": {},
   "outputs": [],
   "source": [
    "# Funcion para sacar la moda \n",
    "from statistics import mode \n",
    "numeros = [2,4,3,2,4,6,7,1,2,9,2,8]"
   ]
  },
  {
   "cell_type": "code",
   "execution_count": 10,
   "metadata": {},
   "outputs": [
    {
     "data": {
      "text/plain": [
       "2"
      ]
     },
     "execution_count": 10,
     "metadata": {},
     "output_type": "execute_result"
    }
   ],
   "source": [
    "mode(numeros)"
   ]
  },
  {
   "cell_type": "code",
   "execution_count": 11,
   "metadata": {},
   "outputs": [
    {
     "data": {
      "text/plain": [
       "'python'"
      ]
     },
     "execution_count": 11,
     "metadata": {},
     "output_type": "execute_result"
    }
   ],
   "source": [
    "# Funcion para sacar la moda de letras \n",
    "lenguajes = ['python', 'c++', 'java', 'python', 'c', 'javaScrip']\n",
    "mode(lenguajes)"
   ]
  },
  {
   "cell_type": "markdown",
   "metadata": {},
   "source": [
    "### Percentiles"
   ]
  },
  {
   "cell_type": "markdown",
   "metadata": {},
   "source": [
    "Un percentil es una medida estadística utilizada para comparar datos. Consiste en un número de 0 a 100 que indica el porcentaje de datos que son igual o menor que determinado valor.\n",
    "\n",
    "Los percentiles son muy conocidos por su uso en los percentiles de crecimiento. Por ejemplo, si el peso de un bebé está en el percentil 65, quiere decir que el 65% de los bebés de la misma edad pesan igual o menos."
   ]
  },
  {
   "cell_type": "code",
   "execution_count": 2,
   "metadata": {},
   "outputs": [],
   "source": [
    "import numpy as np"
   ]
  },
  {
   "cell_type": "code",
   "execution_count": 3,
   "metadata": {},
   "outputs": [
    {
     "name": "stdout",
     "output_type": "stream",
     "text": [
      "Min:  1\n",
      "Q1:  4.0\n",
      "Q2:  8.0\n",
      "Q3:  10.5\n",
      "Max:  15\n"
     ]
    }
   ],
   "source": [
    "#percentil_edades = np.percentile(df[\"age\"], 25)\n",
    "#print(\"El 25% percentil de las edades es: \", percentil_edades)\n",
    "arr = [1,1,3,5,7,8,9,10,11,11,15]\n",
    "print(\"Min: \",np.quantile(arr,0))\n",
    "print(\"Q1: \", np.quantile(arr,0.25))\n",
    "print(\"Q2: \", np.quantile(arr,0.5))\n",
    "print(\"Q3: \", np.quantile(arr,0.75))\n",
    "print(\"Max: \", np.quantile(arr,1))"
   ]
  },
  {
   "cell_type": "markdown",
   "metadata": {},
   "source": [
    "## Medidas de dispersión"
   ]
  },
  {
   "cell_type": "markdown",
   "metadata": {},
   "source": [
    "### Varianza"
   ]
  },
  {
   "cell_type": "markdown",
   "metadata": {},
   "source": [
    "Varianza = Es una medida de dispersión definida como la esperanza del cuadrado de la desviación de dicha variable respecto a la media, o dicho de otra forma, es la media de los residuos al cuadrado.\n",
    "\n",
    "Esta formula se explica mejor siguiendo estos pasos:\n",
    "a) Calcular la suma de los datos.\n",
    "b) Calcular la media.\n",
    "c) Restar la media a cada dato.\n",
    "d) Elevar al cuadrado cada resultado.\n",
    "e) Sumar todos los resultados y sacar la media de esa sumatoria."
   ]
  },
  {
   "cell_type": "code",
   "execution_count": 7,
   "metadata": {},
   "outputs": [],
   "source": [
    "from math import sqrt\n",
    "import scipy.stats as ss"
   ]
  },
  {
   "cell_type": "code",
   "execution_count": 8,
   "metadata": {},
   "outputs": [
    {
     "name": "stdout",
     "output_type": "stream",
     "text": [
      "3.0\n",
      "2.0\n",
      "1.4142135623730951\n"
     ]
    }
   ],
   "source": [
    "#Para calcular la varianza ocupamos de la media \n",
    "def media(lista):\n",
    "    s = 0\n",
    "    for elemento in lista:\n",
    "        s +=elemento\n",
    "    return s / float(len(lista))\n",
    "\n",
    "# una vez que calculamos la media entonces proseguimos a sacar la varianza \n",
    "def varianza(lista):\n",
    "    s = 0\n",
    "    m = media(lista)\n",
    "    for elemento in lista:\n",
    "        s += (elemento - m) ** 2\n",
    "    return s / float(len(lista))\n",
    "\n",
    "#al tener la varianza podemos proceder a calcular la desviacion tipica\n",
    "def desviacion_tipica(lista):\n",
    "  return sqrt(varianza(lista))\n",
    "\n",
    "\n",
    " \n",
    "lista=[1,2,3,4,5]\n",
    "print(media(lista))\n",
    "print(varianza(lista))\n",
    "print(desviacion_tipica(lista))\n",
    "    "
   ]
  },
  {
   "cell_type": "code",
   "execution_count": 1,
   "metadata": {},
   "outputs": [],
   "source": [
    "# Creando otro ejercicio para calcular la varianza\n",
    "import numpy as np # importando numpy\n",
    "from scipy import stats # importando scipy.stats\n",
    "import pandas as pd # importando pandas\n",
    "\n",
    "np.random.seed(2131982) # para poder replicar el random"
   ]
  },
  {
   "cell_type": "code",
   "execution_count": 2,
   "metadata": {},
   "outputs": [
    {
     "data": {
      "text/plain": [
       "array([[ 0.46038022, -1.08942528, -0.62681496, -0.63329028],\n",
       "       [-0.1074033 , -0.88138082, -0.34466623, -0.28320214],\n",
       "       [ 0.94051171,  0.86693793,  1.20947882, -0.16894118],\n",
       "       [-0.12790177, -0.58099931, -0.46188426, -0.18148302],\n",
       "       [-0.76959435, -1.37414587,  1.37696874, -0.18040537]])"
      ]
     },
     "execution_count": 2,
     "metadata": {},
     "output_type": "execute_result"
    }
   ],
   "source": [
    "datos = np.random.randn(5, 4) # datos normalmente distribuidos\n",
    "datos"
   ]
  },
  {
   "cell_type": "code",
   "execution_count": 3,
   "metadata": {},
   "outputs": [
    {
     "data": {
      "text/plain": [
       "-0.14786303590303568"
      ]
     },
     "execution_count": 3,
     "metadata": {},
     "output_type": "execute_result"
    }
   ],
   "source": [
    "# media arítmetica\n",
    "datos.mean() # Calcula la media aritmetica de"
   ]
  },
  {
   "cell_type": "code",
   "execution_count": 4,
   "metadata": {},
   "outputs": [
    {
     "data": {
      "text/plain": [
       "-0.14786303590303568"
      ]
     },
     "execution_count": 4,
     "metadata": {},
     "output_type": "execute_result"
    }
   ],
   "source": [
    "np.mean(datos) # Mismo resultado desde la funcion de numpy"
   ]
  },
  {
   "cell_type": "code",
   "execution_count": 5,
   "metadata": {},
   "outputs": [
    {
     "data": {
      "text/plain": [
       "array([-0.47228757, -0.40416312,  0.71199682, -0.33806709, -0.23679421])"
      ]
     },
     "execution_count": 5,
     "metadata": {},
     "output_type": "execute_result"
    }
   ],
   "source": [
    "datos.mean(axis=1) #media aritmetica por cada fila"
   ]
  },
  {
   "cell_type": "code",
   "execution_count": 6,
   "metadata": {},
   "outputs": [
    {
     "data": {
      "text/plain": [
       "array([ 0.0791985 , -0.61180267,  0.23061642, -0.2894644 ])"
      ]
     },
     "execution_count": 6,
     "metadata": {},
     "output_type": "execute_result"
    }
   ],
   "source": [
    "datos.mean(axis=0) #media aritmetica por cada columna"
   ]
  },
  {
   "cell_type": "code",
   "execution_count": 7,
   "metadata": {},
   "outputs": [
    {
     "data": {
      "text/plain": [
       "-0.23234258265023794"
      ]
     },
     "execution_count": 7,
     "metadata": {},
     "output_type": "execute_result"
    }
   ],
   "source": [
    "# para sacar la mediana\n",
    "np.median(datos) "
   ]
  },
  {
   "cell_type": "code",
   "execution_count": 8,
   "metadata": {},
   "outputs": [
    {
     "data": {
      "text/plain": [
       "array([-0.1074033 , -0.88138082, -0.34466623, -0.18148302])"
      ]
     },
     "execution_count": 8,
     "metadata": {},
     "output_type": "execute_result"
    }
   ],
   "source": [
    "np.median(datos, 0) # media aritmetica de cada columna"
   ]
  },
  {
   "cell_type": "code",
   "execution_count": 9,
   "metadata": {},
   "outputs": [
    {
     "data": {
      "text/plain": [
       "0.7375535458407161"
      ]
     },
     "execution_count": 9,
     "metadata": {},
     "output_type": "execute_result"
    }
   ],
   "source": [
    "# Desviación típica\n",
    "np.std(datos)"
   ]
  },
  {
   "cell_type": "code",
   "execution_count": 10,
   "metadata": {},
   "outputs": [
    {
     "data": {
      "text/plain": [
       "array([0.58057213, 0.78352862, 0.87384108, 0.17682485])"
      ]
     },
     "execution_count": 10,
     "metadata": {},
     "output_type": "execute_result"
    }
   ],
   "source": [
    "np.std(datos, 0) # Desviación típica de cada columna"
   ]
  },
  {
   "cell_type": "code",
   "execution_count": 11,
   "metadata": {},
   "outputs": [
    {
     "data": {
      "text/plain": [
       "0.5439852329822132"
      ]
     },
     "execution_count": 11,
     "metadata": {},
     "output_type": "execute_result"
    }
   ],
   "source": [
    "np.var(datos, 0) # varianza de cada columna# varianza\n",
    "np.var(datos) "
   ]
  },
  {
   "cell_type": "code",
   "execution_count": 12,
   "metadata": {},
   "outputs": [
    {
     "data": {
      "text/plain": [
       "array([0.337064  , 0.6139171 , 0.76359823, 0.03126703])"
      ]
     },
     "execution_count": 12,
     "metadata": {},
     "output_type": "execute_result"
    }
   ],
   "source": [
    "np.var(datos, 0) # varianza de cada columna"
   ]
  },
  {
   "cell_type": "code",
   "execution_count": 13,
   "metadata": {},
   "outputs": [
    {
     "data": {
      "text/plain": [
       "ModeResult(mode=array([[-0.76959435, -1.37414587, -0.62681496, -0.63329028]]), count=array([[1, 1, 1, 1]]))"
      ]
     },
     "execution_count": 13,
     "metadata": {},
     "output_type": "execute_result"
    }
   ],
   "source": [
    "# moda\n",
    "stats.mode(datos) # Calcula la moda de cada columna\n",
    "# el 2do array devuelve la frecuencia."
   ]
  },
  {
   "cell_type": "code",
   "execution_count": 14,
   "metadata": {},
   "outputs": [
    {
     "data": {
      "text/plain": [
       "ModeResult(mode=array([6]), count=array([5]))"
      ]
     },
     "execution_count": 14,
     "metadata": {},
     "output_type": "execute_result"
    }
   ],
   "source": [
    "datos2 = np.array([1, 2, 3, 6, 6, 1, 2, 4, 2, 2, 6, 6, 8, 10, 6])\n",
    "stats.mode(datos2) # aqui la moda es el 6 porque aparece 5 veces en el vector."
   ]
  },
  {
   "cell_type": "markdown",
   "metadata": {},
   "source": [
    "### Correlación "
   ]
  },
  {
   "cell_type": "markdown",
   "metadata": {},
   "source": [
    "Correlacion entre variables: La Correlación es una técnica estadística usada para determinar la relación entre dos o más variables. La relación entre la duración de una carrera de distancia y el test del escalón, o la relación entre las características de la personalidad y la participación en deportes de alto riesgo. La correlación puede ser de al menos dos variables o de una variable dependiente y dos o más variables independientes, denominada correlación múltiple."
   ]
  },
  {
   "cell_type": "code",
   "execution_count": 15,
   "metadata": {},
   "outputs": [
    {
     "data": {
      "text/plain": [
       "array([[ 1.        ,  0.82333743,  0.15257202,  0.78798675, -0.02292073],\n",
       "       [ 0.82333743,  1.        , -0.13709662,  0.86873632,  0.41234875],\n",
       "       [ 0.15257202, -0.13709662,  1.        , -0.47691376,  0.21216856],\n",
       "       [ 0.78798675,  0.86873632, -0.47691376,  1.        , -0.03445705],\n",
       "       [-0.02292073,  0.41234875,  0.21216856, -0.03445705,  1.        ]])"
      ]
     },
     "execution_count": 15,
     "metadata": {},
     "output_type": "execute_result"
    }
   ],
   "source": [
    "# correlacion\n",
    "np.corrcoef(datos) # Crea matriz de correlación."
   ]
  },
  {
   "cell_type": "code",
   "execution_count": 16,
   "metadata": {},
   "outputs": [
    {
     "data": {
      "text/plain": [
       "array([[1.        , 0.82333743],\n",
       "       [0.82333743, 1.        ]])"
      ]
     },
     "execution_count": 16,
     "metadata": {},
     "output_type": "execute_result"
    }
   ],
   "source": [
    "# para calcular la correlación entre dos vectores se hara de este modo.\n",
    "np.corrcoef(datos[0], datos[1])"
   ]
  },
  {
   "cell_type": "code",
   "execution_count": 17,
   "metadata": {},
   "outputs": [
    {
     "data": {
      "text/plain": [
       "array([[ 0.43350958,  0.18087281,  0.06082243,  0.11328658, -0.01782409],\n",
       "       [ 0.18087281,  0.11132485, -0.0276957 ,  0.06329134,  0.16249513],\n",
       "       [ 0.06082243, -0.0276957 ,  0.36658864, -0.06305065,  0.15172255],\n",
       "       [ 0.11328658,  0.06329134, -0.06305065,  0.04767826, -0.00888624],\n",
       "       [-0.01782409,  0.16249513,  0.15172255, -0.00888624,  1.39495179]])"
      ]
     },
     "execution_count": 17,
     "metadata": {},
     "output_type": "execute_result"
    }
   ],
   "source": [
    "# para calcular una covarianza\n",
    "np.cov(datos) "
   ]
  },
  {
   "cell_type": "code",
   "execution_count": 19,
   "metadata": {},
   "outputs": [
    {
     "data": {
      "text/plain": [
       "array([[0.43350958, 0.18087281],\n",
       "       [0.18087281, 0.11132485]])"
      ]
     },
     "execution_count": 19,
     "metadata": {},
     "output_type": "execute_result"
    }
   ],
   "source": [
    "# covarianza de dos vectores\n",
    "np.cov(datos[0], datos[1])"
   ]
  },
  {
   "cell_type": "code",
   "execution_count": 20,
   "metadata": {},
   "outputs": [
    {
     "data": {
      "text/html": [
       "<div>\n",
       "<style scoped>\n",
       "    .dataframe tbody tr th:only-of-type {\n",
       "        vertical-align: middle;\n",
       "    }\n",
       "\n",
       "    .dataframe tbody tr th {\n",
       "        vertical-align: top;\n",
       "    }\n",
       "\n",
       "    .dataframe thead th {\n",
       "        text-align: right;\n",
       "    }\n",
       "</style>\n",
       "<table border=\"1\" class=\"dataframe\">\n",
       "  <thead>\n",
       "    <tr style=\"text-align: right;\">\n",
       "      <th></th>\n",
       "      <th>col1</th>\n",
       "      <th>col2</th>\n",
       "      <th>col3</th>\n",
       "      <th>col4</th>\n",
       "    </tr>\n",
       "  </thead>\n",
       "  <tbody>\n",
       "    <tr>\n",
       "      <th>a</th>\n",
       "      <td>0.460380</td>\n",
       "      <td>-1.089425</td>\n",
       "      <td>-0.626815</td>\n",
       "      <td>-0.633290</td>\n",
       "    </tr>\n",
       "    <tr>\n",
       "      <th>b</th>\n",
       "      <td>-0.107403</td>\n",
       "      <td>-0.881381</td>\n",
       "      <td>-0.344666</td>\n",
       "      <td>-0.283202</td>\n",
       "    </tr>\n",
       "    <tr>\n",
       "      <th>c</th>\n",
       "      <td>0.940512</td>\n",
       "      <td>0.866938</td>\n",
       "      <td>1.209479</td>\n",
       "      <td>-0.168941</td>\n",
       "    </tr>\n",
       "    <tr>\n",
       "      <th>d</th>\n",
       "      <td>-0.127902</td>\n",
       "      <td>-0.580999</td>\n",
       "      <td>-0.461884</td>\n",
       "      <td>-0.181483</td>\n",
       "    </tr>\n",
       "    <tr>\n",
       "      <th>e</th>\n",
       "      <td>-0.769594</td>\n",
       "      <td>-1.374146</td>\n",
       "      <td>1.376969</td>\n",
       "      <td>-0.180405</td>\n",
       "    </tr>\n",
       "  </tbody>\n",
       "</table>\n",
       "</div>"
      ],
      "text/plain": [
       "       col1      col2      col3      col4\n",
       "a  0.460380 -1.089425 -0.626815 -0.633290\n",
       "b -0.107403 -0.881381 -0.344666 -0.283202\n",
       "c  0.940512  0.866938  1.209479 -0.168941\n",
       "d -0.127902 -0.580999 -0.461884 -0.181483\n",
       "e -0.769594 -1.374146  1.376969 -0.180405"
      ]
     },
     "execution_count": 20,
     "metadata": {},
     "output_type": "execute_result"
    }
   ],
   "source": [
    "# usando pandas\n",
    "dataframe = pd.DataFrame(datos, index=['a', 'b', 'c', 'd', 'e'], \n",
    "                        columns=['col1', 'col2', 'col3', 'col4'])\n",
    "dataframe"
   ]
  },
  {
   "cell_type": "code",
   "execution_count": 22,
   "metadata": {},
   "outputs": [
    {
     "data": {
      "text/html": [
       "<div>\n",
       "<style scoped>\n",
       "    .dataframe tbody tr th:only-of-type {\n",
       "        vertical-align: middle;\n",
       "    }\n",
       "\n",
       "    .dataframe tbody tr th {\n",
       "        vertical-align: top;\n",
       "    }\n",
       "\n",
       "    .dataframe thead th {\n",
       "        text-align: right;\n",
       "    }\n",
       "</style>\n",
       "<table border=\"1\" class=\"dataframe\">\n",
       "  <thead>\n",
       "    <tr style=\"text-align: right;\">\n",
       "      <th></th>\n",
       "      <th>col1</th>\n",
       "      <th>col2</th>\n",
       "      <th>col3</th>\n",
       "      <th>col4</th>\n",
       "    </tr>\n",
       "  </thead>\n",
       "  <tbody>\n",
       "    <tr>\n",
       "      <th>count</th>\n",
       "      <td>5.000000</td>\n",
       "      <td>5.000000</td>\n",
       "      <td>5.000000</td>\n",
       "      <td>5.000000</td>\n",
       "    </tr>\n",
       "    <tr>\n",
       "      <th>mean</th>\n",
       "      <td>0.079199</td>\n",
       "      <td>-0.611803</td>\n",
       "      <td>0.230616</td>\n",
       "      <td>-0.289464</td>\n",
       "    </tr>\n",
       "    <tr>\n",
       "      <th>std</th>\n",
       "      <td>0.649099</td>\n",
       "      <td>0.876012</td>\n",
       "      <td>0.976984</td>\n",
       "      <td>0.197696</td>\n",
       "    </tr>\n",
       "    <tr>\n",
       "      <th>min</th>\n",
       "      <td>-0.769594</td>\n",
       "      <td>-1.374146</td>\n",
       "      <td>-0.626815</td>\n",
       "      <td>-0.633290</td>\n",
       "    </tr>\n",
       "    <tr>\n",
       "      <th>25%</th>\n",
       "      <td>-0.127902</td>\n",
       "      <td>-1.089425</td>\n",
       "      <td>-0.461884</td>\n",
       "      <td>-0.283202</td>\n",
       "    </tr>\n",
       "    <tr>\n",
       "      <th>50%</th>\n",
       "      <td>-0.107403</td>\n",
       "      <td>-0.881381</td>\n",
       "      <td>-0.344666</td>\n",
       "      <td>-0.181483</td>\n",
       "    </tr>\n",
       "    <tr>\n",
       "      <th>75%</th>\n",
       "      <td>0.460380</td>\n",
       "      <td>-0.580999</td>\n",
       "      <td>1.209479</td>\n",
       "      <td>-0.180405</td>\n",
       "    </tr>\n",
       "    <tr>\n",
       "      <th>max</th>\n",
       "      <td>0.940512</td>\n",
       "      <td>0.866938</td>\n",
       "      <td>1.376969</td>\n",
       "      <td>-0.168941</td>\n",
       "    </tr>\n",
       "  </tbody>\n",
       "</table>\n",
       "</div>"
      ],
      "text/plain": [
       "           col1      col2      col3      col4\n",
       "count  5.000000  5.000000  5.000000  5.000000\n",
       "mean   0.079199 -0.611803  0.230616 -0.289464\n",
       "std    0.649099  0.876012  0.976984  0.197696\n",
       "min   -0.769594 -1.374146 -0.626815 -0.633290\n",
       "25%   -0.127902 -1.089425 -0.461884 -0.283202\n",
       "50%   -0.107403 -0.881381 -0.344666 -0.181483\n",
       "75%    0.460380 -0.580999  1.209479 -0.180405\n",
       "max    0.940512  0.866938  1.376969 -0.168941"
      ]
     },
     "execution_count": 22,
     "metadata": {},
     "output_type": "execute_result"
    }
   ],
   "source": [
    "# resumen estadistadistico con pandas\n",
    "dataframe.describe()"
   ]
  },
  {
   "cell_type": "code",
   "execution_count": null,
   "metadata": {},
   "outputs": [],
   "source": []
  },
  {
   "cell_type": "code",
   "execution_count": null,
   "metadata": {},
   "outputs": [],
   "source": []
  },
  {
   "cell_type": "markdown",
   "metadata": {},
   "source": [
    "## Medidas de asimetria"
   ]
  },
  {
   "cell_type": "markdown",
   "metadata": {},
   "source": [
    "### Asimetria de Fisher"
   ]
  },
  {
   "cell_type": "markdown",
   "metadata": {},
   "source": [
    "Coeficiente de asimetría de Fisher\n",
    "En teoría de la probabilidad y estadística, la medida de asimetría más utilizada parte del uso del tercer momento estándar. \n",
    "La razón de esto es que nos interesa mantener el signo de las desviaciones con respecto a la media, para obtener si son mayores \n",
    "las que ocurren a la derecha de la media que las de la izquierda. Sin embargo, no es buena idea tomar el momento estándar con \n",
    "respecto a la media de orden 1. Debido a que una simple suma de todas las desviaciones siempre es cero. En efecto, si por \n",
    "ejemplo, los datos están agrupados en k clases.\n"
   ]
  },
  {
   "cell_type": "code",
   "execution_count": 5,
   "metadata": {},
   "outputs": [],
   "source": [
    "import pandas as pd\n",
    "import matplotlib.pyplot as plt"
   ]
  },
  {
   "cell_type": "code",
   "execution_count": 6,
   "metadata": {},
   "outputs": [
    {
     "data": {
      "text/html": [
       "<div>\n",
       "<style scoped>\n",
       "    .dataframe tbody tr th:only-of-type {\n",
       "        vertical-align: middle;\n",
       "    }\n",
       "\n",
       "    .dataframe tbody tr th {\n",
       "        vertical-align: top;\n",
       "    }\n",
       "\n",
       "    .dataframe thead th {\n",
       "        text-align: right;\n",
       "    }\n",
       "</style>\n",
       "<table border=\"1\" class=\"dataframe\">\n",
       "  <thead>\n",
       "    <tr style=\"text-align: right;\">\n",
       "      <th></th>\n",
       "      <th>sepal_length</th>\n",
       "      <th>sepal_width</th>\n",
       "      <th>petal_length</th>\n",
       "      <th>petal_width</th>\n",
       "      <th>species</th>\n",
       "    </tr>\n",
       "  </thead>\n",
       "  <tbody>\n",
       "    <tr>\n",
       "      <th>0</th>\n",
       "      <td>5.1</td>\n",
       "      <td>3.5</td>\n",
       "      <td>1.4</td>\n",
       "      <td>0.2</td>\n",
       "      <td>setosa</td>\n",
       "    </tr>\n",
       "    <tr>\n",
       "      <th>1</th>\n",
       "      <td>4.9</td>\n",
       "      <td>3.0</td>\n",
       "      <td>1.4</td>\n",
       "      <td>0.2</td>\n",
       "      <td>setosa</td>\n",
       "    </tr>\n",
       "    <tr>\n",
       "      <th>2</th>\n",
       "      <td>4.7</td>\n",
       "      <td>3.2</td>\n",
       "      <td>1.3</td>\n",
       "      <td>0.2</td>\n",
       "      <td>setosa</td>\n",
       "    </tr>\n",
       "    <tr>\n",
       "      <th>3</th>\n",
       "      <td>4.6</td>\n",
       "      <td>3.1</td>\n",
       "      <td>1.5</td>\n",
       "      <td>0.2</td>\n",
       "      <td>setosa</td>\n",
       "    </tr>\n",
       "    <tr>\n",
       "      <th>4</th>\n",
       "      <td>5.0</td>\n",
       "      <td>3.6</td>\n",
       "      <td>1.4</td>\n",
       "      <td>0.2</td>\n",
       "      <td>setosa</td>\n",
       "    </tr>\n",
       "  </tbody>\n",
       "</table>\n",
       "</div>"
      ],
      "text/plain": [
       "   sepal_length  sepal_width  petal_length  petal_width species\n",
       "0           5.1          3.5           1.4          0.2  setosa\n",
       "1           4.9          3.0           1.4          0.2  setosa\n",
       "2           4.7          3.2           1.3          0.2  setosa\n",
       "3           4.6          3.1           1.5          0.2  setosa\n",
       "4           5.0          3.6           1.4          0.2  setosa"
      ]
     },
     "execution_count": 6,
     "metadata": {},
     "output_type": "execute_result"
    }
   ],
   "source": [
    "iris = pd.read_csv(\"https://raw.githubusercontent.com/toneloy/data/master/iris.csv\")\n",
    "iris.head()"
   ]
  },
  {
   "cell_type": "code",
   "execution_count": 14,
   "metadata": {},
   "outputs": [
    {
     "data": {
      "text/plain": [
       "sepal_length    0.314911\n",
       "sepal_width     0.318966\n",
       "petal_length   -0.274884\n",
       "petal_width    -0.102967\n",
       "dtype: float64"
      ]
     },
     "execution_count": 14,
     "metadata": {},
     "output_type": "execute_result"
    }
   ],
   "source": [
    "# Para calcular la asimetria entonces vamos a utilizar el metodo .skew()\n",
    "\n",
    "iris.skew()"
   ]
  },
  {
   "cell_type": "code",
   "execution_count": 16,
   "metadata": {},
   "outputs": [
    {
     "data": {
      "text/plain": [
       "-0.07692307692307661"
      ]
     },
     "execution_count": 16,
     "metadata": {},
     "output_type": "execute_result"
    }
   ],
   "source": [
    "def quartile_skew(x):\n",
    "  q = x.quantile([.25, .50, .75])\n",
    "  \n",
    "  return ((q[0.75] - q[0.5]) - (q[0.5] - q[0.25])) / (q[0.75] - q[0.25])\n",
    "  \n",
    "quartile_skew(iris[\"sepal_length\"])"
   ]
  },
  {
   "cell_type": "code",
   "execution_count": 23,
   "metadata": {},
   "outputs": [],
   "source": [
    "%matplotlib inline "
   ]
  },
  {
   "cell_type": "code",
   "execution_count": null,
   "metadata": {},
   "outputs": [],
   "source": []
  },
  {
   "cell_type": "code",
   "execution_count": 26,
   "metadata": {},
   "outputs": [],
   "source": [
    "mu, sigma = 0, 0.1 # media y desvio estandar\n",
    "s = np.random.normal(mu, sigma, 1000) #creando muestra de datos"
   ]
  },
  {
   "cell_type": "code",
   "execution_count": 28,
   "metadata": {},
   "outputs": [
    {
     "name": "stderr",
     "output_type": "stream",
     "text": [
      "<ipython-input-28-f4c95e1603ed>:2: MatplotlibDeprecationWarning: \n",
      "The 'normed' kwarg was deprecated in Matplotlib 2.1 and will be removed in 3.1. Use 'density' instead.\n",
      "  cuenta, cajas, ignorar = plt.hist(s, 30, normed=True)\n"
     ]
    },
    {
     "data": {
      "image/png": "[encoded data removed]",
      "text/plain": [
       "<Figure size 432x288 with 1 Axes>"
      ]
     },
     "metadata": {
      "needs_background": "light"
     },
     "output_type": "display_data"
    }
   ],
   "source": [
    "# histograma de distribución normal.\n",
    "cuenta, cajas, ignorar = plt.hist(s, 30, normed=True)\n",
    "normal = plt.plot(cajas, 1/(sigma * np.sqrt(2 * np.pi)) *\n",
    "         np.exp( - (cajas - mu)**2 / (2 * sigma**2) ),\n",
    "         linewidth=2, color='r')\n"
   ]
  },
  {
   "cell_type": "code",
   "execution_count": 29,
   "metadata": {},
   "outputs": [
    {
     "data": {
      "image/png": "[encoded data removed]",
      "text/plain": [
       "<Figure size 432x288 with 1 Axes>"
      ]
     },
     "metadata": {
      "needs_background": "light"
     },
     "output_type": "display_data"
    }
   ],
   "source": [
    "# Dibujando la distribucion Gamma\n",
    "x = stats.gamma(3).rvs(5000)\n",
    "gamma = plt.hist(x, 70, histtype=\"stepfilled\", alpha=.7)"
   ]
  },
  {
   "cell_type": "markdown",
   "metadata": {},
   "source": [
    "### Curtosis"
   ]
  },
  {
   "cell_type": "markdown",
   "metadata": {},
   "source": [
    "Kurtosis\n",
    "Otra medida que se utiliza para describir la forma de la distribución es la kurtósis o curtósis. Esta utiliza el moomento central estandarizado de orden 4 para detectar valores extremos. En presencia de valores extremos, la forma de la distribución parece más puntiaguda; por esto la kurtósis se conoce como una medida del apuntalamiento de la distribución.\n",
    "\n",
    "Dada una muestra x1,x2,...,xn, la kurtósis se calcula como\n",
    "\n",
    "m^4/S^4\n",
    "\n",
    "Este valor lo comparamos con 3, y dependiendo de ello, decimos que la distribución es Platicúrtica, Mesocúrtica o Leptocúrtica:\n",
    "\n",
    "Si kurtosis<3 la distribución es Platicúrtica\n",
    "Si kurtosis=3 la distribución es Mesocúrtica\n",
    "Si kurtosis>3 la distribución es Leptocúrtica\n",
    "\n",
    "Al igual que con la asimetría basada en momentos, podemos llegar a una expresión basada en los datos estandarizados.\n",
    "\n",
    "m^4/S^4 = 1/n ∗ ∑ i=1n (x1−X / S)^4 = 1 / n ∗ ∑i=1 z^4subi"
   ]
  },
  {
   "cell_type": "code",
   "execution_count": 17,
   "metadata": {},
   "outputs": [
    {
     "data": {
      "text/plain": [
       "sepal_length   -0.552064\n",
       "sepal_width     0.228249\n",
       "petal_length   -1.402103\n",
       "petal_width    -1.340604\n",
       "dtype: float64"
      ]
     },
     "execution_count": 17,
     "metadata": {},
     "output_type": "execute_result"
    }
   ],
   "source": [
    "#Esto seria para calcular la medida curtosis con solo poner .kurt\n",
    "iris.kurt()"
   ]
  },
  {
   "cell_type": "code",
   "execution_count": 26,
   "metadata": {},
   "outputs": [],
   "source": [
    "import pandas as pd\n",
    "import matplotlib.pyplot as plt\n",
    "import numpy as np\n",
    "from scipy.stats import binom"
   ]
  },
  {
   "cell_type": "code",
   "execution_count": 1,
   "metadata": {},
   "outputs": [
    {
     "ename": "NameError",
     "evalue": "name 'np' is not defined",
     "output_type": "error",
     "traceback": [
      "\u001b[1;31m---------------------------------------------------------------------------\u001b[0m",
      "\u001b[1;31mNameError\u001b[0m                                 Traceback (most recent call last)",
      "\u001b[1;32m<ipython-input-1-5c41cd8ad4a3>\u001b[0m in \u001b[0;36m<module>\u001b[1;34m\u001b[0m\n\u001b[0;32m      4\u001b[0m \u001b[1;33m\u001b[0m\u001b[0m\n\u001b[0;32m      5\u001b[0m \u001b[0mn_1\u001b[0m\u001b[1;33m,\u001b[0m \u001b[0mp_1\u001b[0m \u001b[1;33m=\u001b[0m \u001b[1;36m20\u001b[0m\u001b[1;33m,\u001b[0m \u001b[1;36m0.3\u001b[0m\u001b[1;33m\u001b[0m\u001b[1;33m\u001b[0m\u001b[0m\n\u001b[1;32m----> 6\u001b[1;33m x = np.arange(stats.binom.ppf(l,n, p),\n\u001b[0m\u001b[0;32m      7\u001b[0m               stats.binom.ppf(0.99, n, p))\n\u001b[0;32m      8\u001b[0m x_1 = np.arange(stats.binom.ppf(0.01, n_1, p_1),\n",
      "\u001b[1;31mNameError\u001b[0m: name 'np' is not defined"
     ]
    }
   ],
   "source": [
    "# Graficando FMP asimetria y curtosis\n",
    "# parametros de forma de la distribución binomial  parametros de forma de la distribución binomial\n",
    "n, p = 30, 0.4 \n",
    "\n",
    "n_1, p_1 = 20, 0.3 \n",
    "x = np.arange(stats.binom.ppf(0.01,n, p),\n",
    "              stats.binom.ppf(0.99, n, p))\n",
    "x_1 = np.arange(stats.binom.ppf(0.01, n_1, p_1),\n",
    "              stats.binom.ppf(0.99, n_1, p_1))\n",
    "fmp = stats.binom.pmf(x, n, p) # Función de Masa de Probabilidad\n",
    "fmp_1 = stats.binom.pmf(x_1, n_1, p_1) # Función de Masa de Probabilidad\n",
    "plt.plot(x, fmp, '--')\n",
    "plt.plot(x_1, fmp_1)\n",
    "plt.vlines(x, 0, fmp, colors='b', lw=5, alpha=0.5)\n",
    "plt.vlines(x_1, 0, fmp_1, colors='g', lw=5, alpha=0.5)\n",
    "plt.title('Función de Masa de Probabilidad')\n",
    "plt.ylabel('probabilidad')\n",
    "plt.xlabel('valores')\n",
    "plt.show()"
   ]
  },
  {
   "cell_type": "code",
   "execution_count": 31,
   "metadata": {},
   "outputs": [
    {
     "data": {
      "image/png": "[encoded data removed]",
      "text/plain": [
       "<Figure size 432x288 with 1 Axes>"
      ]
     },
     "metadata": {
      "needs_background": "light"
     },
     "output_type": "display_data"
    }
   ],
   "source": [
    "# binom . pmf ( k )  =  elegir ( n ,  k )  *  p ** k  *  ( 1 - p ) ** ( n - k )\n",
    "\n",
    "from scipy.stats import binom\n",
    "import matplotlib.pyplot as plt\n",
    "fig, ax = plt.subplots(1, 1)"
   ]
  },
  {
   "cell_type": "code",
   "execution_count": 32,
   "metadata": {},
   "outputs": [],
   "source": [
    "n, p = 5, 0.4\n",
    "mean, var, skew, kurt = binom.stats(n, p, moments='mvsk')"
   ]
  },
  {
   "cell_type": "code",
   "execution_count": 33,
   "metadata": {},
   "outputs": [
    {
     "data": {
      "text/plain": [
       "<matplotlib.collections.LineCollection at 0x210496a3a90>"
      ]
     },
     "execution_count": 33,
     "metadata": {},
     "output_type": "execute_result"
    }
   ],
   "source": [
    "x = np.arange(binom.ppf(0.01, n, p), binom.ppf(0.99, n, p))\n",
    "ax.plot(x, binom.pmf(x, n, p), 'bo', ms=8, label='binom pmf')\n",
    "ax.vlines(x, 0, binom.pmf(x, n, p), colors='b', lw=5, alpha=0.5)"
   ]
  },
  {
   "cell_type": "code",
   "execution_count": 34,
   "metadata": {},
   "outputs": [],
   "source": [
    "rv = binom(n, p)\n",
    "ax.vlines(x, 0, rv.pmf(x), colors='k', linestyles='-', lw=1, label='frozen pmf')\n",
    "ax.legend(loc='best', frameon=False)\n",
    "plt.show()"
   ]
  },
  {
   "cell_type": "code",
   "execution_count": 35,
   "metadata": {},
   "outputs": [],
   "source": [
    "plt.show()"
   ]
  },
  {
   "cell_type": "code",
   "execution_count": 36,
   "metadata": {},
   "outputs": [
    {
     "data": {
      "text/plain": [
       "True"
      ]
     },
     "execution_count": 36,
     "metadata": {},
     "output_type": "execute_result"
    }
   ],
   "source": [
    "prob  =  binom . cdf ( x ,  n ,  p ) \n",
    "np . allclose ( x ,  binom . ppf ( prob ,  n ,  p ))"
   ]
  },
  {
   "cell_type": "code",
   "execution_count": 39,
   "metadata": {},
   "outputs": [],
   "source": [
    " r = binom.rvs(n, p, size=1000)"
   ]
  },
  {
   "cell_type": "code",
   "execution_count": 41,
   "metadata": {},
   "outputs": [
    {
     "data": {
      "text/plain": [
       "array([0, 2, 4, 3, 2, 3, 2, 3, 4, 1, 3, 2, 4, 1, 0, 2, 1, 1, 4, 0, 2, 2,\n",
       "       1, 0, 3, 1, 3, 2, 1, 1, 1, 1, 4, 2, 2, 1, 3, 3, 2, 1, 2, 2, 2, 3,\n",
       "       3, 3, 3, 3, 3, 2, 3, 2, 1, 3, 3, 3, 0, 1, 2, 1, 2, 1, 3, 2, 0, 1,\n",
       "       2, 1, 1, 2, 1, 2, 4, 1, 1, 3, 4, 4, 0, 3, 3, 1, 3, 2, 3, 0, 3, 2,\n",
       "       4, 2, 1, 2, 2, 1, 1, 2, 2, 1, 2, 1, 2, 2, 2, 4, 1, 1, 1, 2, 3, 1,\n",
       "       3, 1, 2, 1, 5, 1, 1, 2, 4, 4, 1, 3, 2, 4, 2, 2, 4, 1, 1, 2, 1, 1,\n",
       "       2, 3, 3, 2, 1, 3, 4, 1, 2, 1, 1, 1, 3, 3, 1, 2, 1, 1, 3, 1, 1, 1,\n",
       "       2, 2, 2, 3, 3, 1, 2, 0, 1, 4, 1, 0, 2, 2, 1, 2, 3, 2, 4, 2, 2, 3,\n",
       "       4, 1, 1, 1, 4, 5, 4, 4, 2, 3, 1, 2, 0, 2, 1, 0, 2, 2, 1, 3, 1, 3,\n",
       "       3, 2, 4, 4, 3, 3, 3, 2, 1, 3, 5, 2, 2, 0, 2, 3, 2, 2, 3, 1, 2, 2,\n",
       "       3, 2, 1, 1, 1, 1, 4, 0, 4, 0, 3, 1, 2, 1, 2, 2, 2, 3, 4, 1, 2, 3,\n",
       "       3, 0, 2, 1, 0, 1, 2, 2, 0, 2, 2, 2, 2, 2, 3, 1, 2, 3, 2, 3, 4, 3,\n",
       "       2, 2, 3, 0, 2, 4, 3, 4, 3, 2, 1, 2, 1, 1, 2, 0, 2, 0, 1, 1, 1, 4,\n",
       "       2, 3, 2, 2, 2, 3, 1, 2, 3, 2, 0, 1, 2, 2, 0, 2, 2, 0, 3, 1, 2, 2,\n",
       "       1, 3, 2, 1, 1, 1, 4, 1, 1, 1, 4, 2, 2, 1, 4, 2, 2, 1, 2, 2, 5, 2,\n",
       "       1, 2, 1, 2, 0, 2, 2, 2, 2, 3, 1, 3, 2, 1, 1, 1, 1, 2, 1, 0, 2, 3,\n",
       "       3, 1, 2, 1, 1, 0, 2, 1, 0, 3, 3, 3, 2, 2, 4, 1, 3, 2, 3, 2, 3, 5,\n",
       "       3, 2, 3, 2, 0, 2, 3, 2, 0, 3, 3, 3, 3, 2, 1, 4, 3, 2, 0, 2, 1, 1,\n",
       "       1, 3, 1, 3, 2, 2, 2, 2, 0, 2, 3, 2, 0, 2, 2, 3, 3, 1, 2, 3, 4, 2,\n",
       "       0, 2, 0, 3, 0, 2, 2, 1, 3, 1, 1, 2, 2, 3, 2, 1, 3, 1, 1, 1, 2, 4,\n",
       "       2, 3, 2, 3, 3, 3, 2, 2, 1, 5, 1, 0, 3, 3, 3, 4, 4, 1, 4, 2, 1, 0,\n",
       "       2, 0, 1, 3, 1, 2, 0, 3, 2, 3, 0, 1, 2, 3, 3, 1, 1, 1, 2, 1, 2, 2,\n",
       "       1, 4, 0, 1, 1, 4, 1, 2, 3, 1, 0, 4, 5, 3, 1, 0, 4, 3, 3, 3, 3, 0,\n",
       "       0, 3, 3, 2, 2, 1, 4, 2, 4, 1, 0, 3, 3, 1, 2, 2, 2, 2, 3, 2, 2, 0,\n",
       "       2, 3, 2, 3, 0, 1, 2, 1, 4, 2, 1, 3, 2, 4, 1, 2, 2, 2, 2, 1, 1, 2,\n",
       "       3, 2, 1, 4, 4, 2, 0, 2, 2, 1, 0, 4, 2, 2, 2, 2, 4, 0, 2, 2, 3, 2,\n",
       "       1, 2, 1, 2, 1, 0, 3, 2, 1, 3, 2, 2, 2, 3, 1, 3, 3, 2, 4, 3, 0, 1,\n",
       "       1, 4, 1, 1, 0, 2, 2, 0, 3, 1, 4, 3, 3, 2, 1, 3, 3, 3, 1, 0, 2, 1,\n",
       "       3, 1, 3, 4, 3, 4, 1, 3, 1, 4, 3, 2, 2, 4, 3, 2, 3, 2, 1, 1, 2, 3,\n",
       "       2, 1, 1, 2, 3, 2, 0, 1, 1, 2, 2, 2, 1, 2, 1, 2, 3, 2, 2, 2, 1, 0,\n",
       "       3, 3, 1, 2, 0, 0, 3, 3, 0, 1, 3, 2, 4, 2, 2, 1, 2, 1, 1, 1, 3, 1,\n",
       "       2, 2, 1, 3, 3, 2, 1, 2, 2, 3, 4, 3, 1, 2, 3, 2, 1, 2, 3, 2, 1, 2,\n",
       "       3, 0, 2, 2, 0, 1, 3, 4, 2, 3, 2, 1, 3, 1, 1, 3, 5, 3, 3, 1, 1, 3,\n",
       "       1, 3, 2, 2, 2, 2, 4, 1, 2, 2, 3, 1, 3, 4, 3, 1, 2, 2, 4, 2, 2, 4,\n",
       "       1, 3, 1, 2, 2, 2, 1, 2, 3, 0, 4, 1, 0, 3, 2, 2, 1, 3, 2, 2, 1, 2,\n",
       "       2, 1, 2, 0, 0, 3, 2, 3, 1, 4, 3, 2, 2, 2, 3, 3, 1, 3, 2, 0, 4, 4,\n",
       "       3, 3, 3, 1, 2, 3, 2, 1, 2, 3, 2, 1, 2, 1, 3, 3, 2, 2, 1, 0, 1, 2,\n",
       "       2, 4, 0, 2, 2, 4, 2, 2, 2, 2, 2, 2, 0, 2, 1, 1, 3, 2, 2, 2, 1, 2,\n",
       "       4, 2, 2, 3, 3, 2, 3, 3, 1, 1, 0, 0, 2, 1, 1, 1, 3, 2, 1, 2, 3, 2,\n",
       "       1, 2, 1, 3, 2, 1, 2, 4, 2, 0, 1, 1, 1, 2, 3, 1, 3, 0, 3, 1, 1, 0,\n",
       "       1, 2, 3, 2, 3, 2, 4, 3, 3, 1, 1, 3, 1, 1, 3, 2, 1, 4, 3, 1, 1, 2,\n",
       "       0, 3, 1, 2, 3, 3, 3, 1, 0, 1, 2, 3, 0, 2, 1, 4, 1, 2, 0, 2, 1, 3,\n",
       "       1, 1, 2, 0, 4, 1, 1, 3, 0, 3, 2, 1, 3, 1, 2, 3, 1, 2, 3, 5, 0, 2,\n",
       "       3, 1, 1, 3, 2, 2, 1, 3, 3, 2, 2, 1, 4, 1, 2, 3, 2, 4, 4, 2, 3, 3,\n",
       "       3, 3, 1, 1, 3, 3, 2, 1, 2, 2, 0, 2, 1, 1, 2, 1, 3, 2, 3, 4, 2, 3,\n",
       "       2, 1, 4, 1, 2, 2, 4, 2, 3, 2])"
      ]
     },
     "execution_count": 41,
     "metadata": {},
     "output_type": "execute_result"
    }
   ],
   "source": [
    "#para mostrar numeros aleatorios\n",
    "r"
   ]
  },
  {
   "cell_type": "markdown",
   "metadata": {},
   "source": [
    "### Distribución Chi cuadrado"
   ]
  },
  {
   "cell_type": "markdown",
   "metadata": {},
   "source": [
    "\n",
    "La Distribución Test Chi cuadrado esta dada por la función:\n",
    "\n",
    "p(x;n)=(x2)n2−1e−x22Γ(n2)\n",
    "En dónde la variable x≥0 y el parámetro n, el número de grados de libertad, es un número entero positivo. Una importante aplicación de la Distribución Chi cuadrado es que cuando un conjunto de datos es representado por un modelo teórico, esta distribución puede ser utilizada para controlar cuan bien se ajustan los valores predichos por el modelo, y los datos realmente observados.\n",
    "\n",
    "Test de la Chi cuadrada: Una prueba de chi-cuadrada es una prueba de hipótesis que compara la distribución observada de los datos con una distribución esperada de los datos. Existen varios tipos de pruebas de chi-cuadrada: Prueba de bondad de ajuste de chi-cuadrada Utilice este análisis para probar qué tan bien una muestra de datos categóricos se ajusta a una distribución teórica. Por ejemplo, usted puede comprobar si un dado es justo, lanzando el dado muchas veces y utilizando una prueba de bondad de ajuste de chi-cuadrada para determinar si los resultados siguen una distribución uniforme. En este caso, el estadístico de chi-cuadrada cuantifica qué tanto varía la distribución observada de los conteos con respecto a la distribución hipotética. Pruebas de chi-cuadrada de asociación e independencia Los cálculos para estas pruebas son iguales, pero la pregunta que se está tratando de contestar puede ser diferente.\n",
    "\n",
    "Prueba de asociación: Utilice una prueba de asociación para determinar si una variable está asociada a otra variable. Por ejemplo, determine si las ventas de diferentes colores de automóviles dependen de la ciudad donde se venden.\n",
    "\n",
    "Prueba de independencia: Utilice una prueba de independencia para determinar si el valor observado de una variable depende del valor observado de otra variable. Por ejemplo, determine si el hecho de que una persona vote por un candidato no depende del sexo del elector."
   ]
  },
  {
   "cell_type": "code",
   "execution_count": 15,
   "metadata": {},
   "outputs": [
    {
     "ename": "NameError",
     "evalue": "name 'stats' is not defined",
     "output_type": "error",
     "traceback": [
      "\u001b[1;31m---------------------------------------------------------------------------\u001b[0m",
      "\u001b[1;31mNameError\u001b[0m                                 Traceback (most recent call last)",
      "\u001b[1;32m<ipython-input-15-ba5c7b76bf12>\u001b[0m in \u001b[0;36m<module>\u001b[1;34m\u001b[0m\n\u001b[0;32m      3\u001b[0m \u001b[1;32mfrom\u001b[0m \u001b[0mscipy\u001b[0m\u001b[1;33m.\u001b[0m\u001b[0mstats\u001b[0m \u001b[1;32mimport\u001b[0m \u001b[0mchi2_contingency\u001b[0m\u001b[1;33m\u001b[0m\u001b[1;33m\u001b[0m\u001b[0m\n\u001b[0;32m      4\u001b[0m \u001b[0mdf\u001b[0m \u001b[1;33m=\u001b[0m \u001b[1;36m34\u001b[0m\u001b[1;33m\u001b[0m\u001b[1;33m\u001b[0m\u001b[0m\n\u001b[1;32m----> 5\u001b[1;33m \u001b[0mchi2\u001b[0m \u001b[1;33m=\u001b[0m \u001b[0mstats\u001b[0m\u001b[1;33m.\u001b[0m\u001b[0mchi2\u001b[0m\u001b[1;33m(\u001b[0m\u001b[0mdf\u001b[0m\u001b[1;33m)\u001b[0m\u001b[1;33m\u001b[0m\u001b[1;33m\u001b[0m\u001b[0m\n\u001b[0m\u001b[0;32m      6\u001b[0m x = np.linspace(chi2.ppf(0.01),\n\u001b[0;32m      7\u001b[0m                 chi2.ppf(0.99), 100)\n",
      "\u001b[1;31mNameError\u001b[0m: name 'stats' is not defined"
     ]
    }
   ],
   "source": [
    "# Distribucion Chi cuadrado ejemplo malo pero con la estructura conforme a lo que se solicita en chi cuadrado\n",
    "#from scipy.stats import binom\n",
    "from scipy.stats import chi2_contingency\n",
    "df = 34 \n",
    "chi2 = stats.chi2(df)\n",
    "x = np.linspace(chi2.ppf(0.01),\n",
    "                chi2.ppf(0.99), 100)\n",
    "fp = chi2.pdf(x) # Función de Probabilidad\n",
    "plt.plot(x, fp)\n",
    "plt.title('Distribución Chi cuadrado')\n",
    "plt.ylabel('probabilidad')\n",
    "plt.xlabel('valores')\n",
    "plt.show()"
   ]
  },
  {
   "cell_type": "code",
   "execution_count": 14,
   "metadata": {},
   "outputs": [
    {
     "data": {
      "text/plain": [
       "(2.7777777777777777,\n",
       " 0.24935220877729622,\n",
       " 2,\n",
       " array([[12., 12., 16.],\n",
       "        [18., 18., 24.]]))"
      ]
     },
     "execution_count": 14,
     "metadata": {},
     "output_type": "execute_result"
    }
   ],
   "source": [
    "# Distribucion de chi cuadrado\n",
    "from scipy.stats import chi2_contingency\n",
    "import numpy as np\n",
    "obs = np.array([[10, 10, 20], [20, 20, 20]])\n",
    "chi2_contingency(obs)"
   ]
  },
  {
   "cell_type": "code",
   "execution_count": null,
   "metadata": {},
   "outputs": [],
   "source": []
  }
 ],
 "metadata": {
  "kernelspec": {
   "display_name": "Python 3",
   "language": "python",
   "name": "python3"
  },
  "language_info": {
   "codemirror_mode": {
    "name": "ipython",
    "version": 3
   },
   "file_extension": ".py",
   "mimetype": "text/x-python",
   "name": "python",
   "nbconvert_exporter": "python",
   "pygments_lexer": "ipython3",
   "version": "3.8.1"
  }
 },
 "nbformat": 4,
 "nbformat_minor": 4
}
