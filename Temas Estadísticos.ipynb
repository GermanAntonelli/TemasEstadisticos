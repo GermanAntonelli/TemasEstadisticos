{
 "cells": [
  {
   "cell_type": "markdown",
   "metadata": {},
   "source": [
    "# Temas Estadísticos"
   ]
  },
  {
   "cell_type": "markdown",
   "metadata": {},
   "source": [
    "## Medidas de Centralización"
   ]
  },
  {
   "cell_type": "markdown",
   "metadata": {},
   "source": [
    "### Media Aritmetica\n",
    "\n"
   ]
  },
  {
   "cell_type": "markdown",
   "metadata": {},
   "source": [
    "Que es? La media aritmética es el valor obtenido al sumar todos los datos y dividir el resultado entre el número total de datos. x es el símbolo de la media aritmética.\n",
    "\n",
    "Ejemplo:\n",
    "Los pesos de seis amigos son: 84, 91, 72, 68, 87 y 78 kg.\n",
    "\n",
    "Hallar el peso medio.\n",
    "\n",
    "ejemplo de media aritmetica\n",
    "  \n",
    "     84 + 91 + 72 + 68 + 87 + 78\n",
    "x = ---------------------------- = 80 kg\n",
    "                 6\n",
    "                 \n",
    "                 \n",
    "Se denota por X \n",
    "Se divide la suma de los datos por el número total de ellos. \n",
    "O si los datos vienen en una tabla con sus frecuencias absolutas (fi ( tantos con este valor, otros tantos con otro valor...), se multiplica cada dato   xi  por su frecuencia fi \n",
    "  \n",
    " x =  ( x1.f1 + x2.f2 + ....+ xn.fn) / N  = ∑(xi.fi)/N"
   ]
  },
  {
   "cell_type": "code",
   "execution_count": 1,
   "metadata": {},
   "outputs": [
    {
     "data": {
      "text/plain": [
       "80.0"
      ]
     },
     "execution_count": 1,
     "metadata": {},
     "output_type": "execute_result"
    }
   ],
   "source": [
    "def Media_Aritmetica(numero_lista):\n",
    "    return sum(numero_lista)/len(numero_lista)\n",
    "\n",
    "numero_lista=[84,91,72,68,87,78]\n",
    "\n",
    "Media_Aritmetica(numero_lista)"
   ]
  },
  {
   "cell_type": "markdown",
   "metadata": {},
   "source": [
    "### Mediana "
   ]
  },
  {
   "cell_type": "markdown",
   "metadata": {},
   "source": [
    "\n",
    "Partiendo del latín encontramos la forma más directa de definir este concepto matemático que proviene de medianus, significando del medio. A pesar de que es una palabra ampliamente utilizada en el lenguaje, adquiere un significado matemático cuando nos referimos a la variable que se encuentra en la posición central.\n",
    "\n",
    "Todos estos son puntos de vista o formas de observar los datos obtenidos a través de un estudio estadístico, pueden medirse y por esta razón son indispensables en cualquier estudio o proyecto.\n",
    "\n",
    "*Se representa por Me \n",
    "*Es el valor central de un conjunto de datos \n",
    "*Se ordenan los valores en orden creciente y se toma el que ocupa el lugar central (si el número de valores es impar o la media de los dos centrales si es par). \n",
    "*Si se trata de la mediana de valores agrupados"
   ]
  },
  {
   "cell_type": "code",
   "execution_count": 6,
   "metadata": {},
   "outputs": [
    {
     "data": {
      "text/plain": [
       "5"
      ]
     },
     "execution_count": 6,
     "metadata": {},
     "output_type": "execute_result"
    }
   ],
   "source": [
    "# Forma para sacar la mediana\n",
    "from statistics import median\n",
    "median([5, 2, 7])"
   ]
  },
  {
   "cell_type": "markdown",
   "metadata": {},
   "source": [
    "### Moda"
   ]
  },
  {
   "cell_type": "markdown",
   "metadata": {},
   "source": [
    "En estadística, la moda es el valor con mayor frecuencia en una de las distribuciones de datos. Esto va en forma de una columna cuando encontremos dos modas, es decir, dos datos que tengan la misma frecuencia absoluta máxima. Una distribución trimodal de los datos es en la que encontramos tres modas. En el caso de la distribución uniforme discreta, cuando todos los datos tienen la misma frecuencia, se puede definir las modas como indicado, pero estos valores no tienen utilidad. Por eso algunos matemáticos califican esta distribución como «sin moda».\n",
    "\n",
    "*Se representa por Mo \n",
    "*Es el valor que más se repite. \n",
    "*Si se repiten la serie es bimodal (2) o multimodal.\n",
    "\n",
    "importante\n",
    "* si se encuentran multiples modas con la misma frecuencia se retorna la primera que se encuentre en los datos "
   ]
  },
  {
   "cell_type": "code",
   "execution_count": 9,
   "metadata": {},
   "outputs": [],
   "source": [
    "# Funcion para sacar la moda \n",
    "from statistics import mode \n",
    "numeros = [2,4,3,2,4,6,7,1,2,9,2,8]"
   ]
  },
  {
   "cell_type": "code",
   "execution_count": 10,
   "metadata": {},
   "outputs": [
    {
     "data": {
      "text/plain": [
       "2"
      ]
     },
     "execution_count": 10,
     "metadata": {},
     "output_type": "execute_result"
    }
   ],
   "source": [
    "mode(numeros)"
   ]
  },
  {
   "cell_type": "code",
   "execution_count": 11,
   "metadata": {},
   "outputs": [
    {
     "data": {
      "text/plain": [
       "'python'"
      ]
     },
     "execution_count": 11,
     "metadata": {},
     "output_type": "execute_result"
    }
   ],
   "source": [
    "# Funcion para sacar la moda de letras \n",
    "lenguajes = ['python', 'c++', 'java', 'python', 'c', 'javaScrip']\n",
    "mode(lenguajes)"
   ]
  },
  {
   "cell_type": "markdown",
   "metadata": {},
   "source": [
    "### Percentiles"
   ]
  },
  {
   "cell_type": "markdown",
   "metadata": {},
   "source": [
    "Un percentil es una medida estadística utilizada para comparar datos. Consiste en un número de 0 a 100 que indica el porcentaje de datos que son igual o menor que determinado valor.\n",
    "\n",
    "Los percentiles son muy conocidos por su uso en los percentiles de crecimiento. Por ejemplo, si el peso de un bebé está en el percentil 65, quiere decir que el 65% de los bebés de la misma edad pesan igual o menos."
   ]
  },
  {
   "cell_type": "code",
   "execution_count": 13,
   "metadata": {},
   "outputs": [],
   "source": [
    "import numpy as np"
   ]
  },
  {
   "cell_type": "code",
   "execution_count": 14,
   "metadata": {},
   "outputs": [
    {
     "ename": "NameError",
     "evalue": "name 'df' is not defined",
     "output_type": "error",
     "traceback": [
      "\u001b[1;31m---------------------------------------------------------------------------\u001b[0m",
      "\u001b[1;31mNameError\u001b[0m                                 Traceback (most recent call last)",
      "\u001b[1;32m<ipython-input-14-1730c3953c38>\u001b[0m in \u001b[0;36m<module>\u001b[1;34m\u001b[0m\n\u001b[1;32m----> 1\u001b[1;33m \u001b[0mpercentil_edades\u001b[0m \u001b[1;33m=\u001b[0m \u001b[0mnp\u001b[0m\u001b[1;33m.\u001b[0m\u001b[0mpercentile\u001b[0m\u001b[1;33m(\u001b[0m\u001b[0mdf\u001b[0m\u001b[1;33m[\u001b[0m\u001b[1;34m\"age\"\u001b[0m\u001b[1;33m]\u001b[0m\u001b[1;33m,\u001b[0m \u001b[1;36m25\u001b[0m\u001b[1;33m)\u001b[0m\u001b[1;33m\u001b[0m\u001b[1;33m\u001b[0m\u001b[0m\n\u001b[0m\u001b[0;32m      2\u001b[0m \u001b[0mprint\u001b[0m\u001b[1;33m(\u001b[0m\u001b[1;34m\"El 25% percentil de las edades es: \"\u001b[0m\u001b[1;33m,\u001b[0m \u001b[0mpercentil_edades\u001b[0m\u001b[1;33m)\u001b[0m\u001b[1;33m\u001b[0m\u001b[1;33m\u001b[0m\u001b[0m\n",
      "\u001b[1;31mNameError\u001b[0m: name 'df' is not defined"
     ]
    }
   ],
   "source": [
    "percentil_edades = np.percentile(df[\"age\"], 25)\n",
    "print(\"El 25% percentil de las edades es: \", percentil_edades)"
   ]
  },
  {
   "cell_type": "code",
   "execution_count": null,
   "metadata": {},
   "outputs": [],
   "source": []
  }
 ],
 "metadata": {
  "kernelspec": {
   "display_name": "Python 3",
   "language": "python",
   "name": "python3"
  },
  "language_info": {
   "codemirror_mode": {
    "name": "ipython",
    "version": 3
   },
   "file_extension": ".py",
   "mimetype": "text/x-python",
   "name": "python",
   "nbconvert_exporter": "python",
   "pygments_lexer": "ipython3",
   "version": "3.8.1"
  }
 },
 "nbformat": 4,
 "nbformat_minor": 4
}
